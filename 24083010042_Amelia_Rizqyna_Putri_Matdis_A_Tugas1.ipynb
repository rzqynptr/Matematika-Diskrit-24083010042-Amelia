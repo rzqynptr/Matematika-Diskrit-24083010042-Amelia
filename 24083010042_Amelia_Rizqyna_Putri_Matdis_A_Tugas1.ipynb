{
  "nbformat": 4,
  "nbformat_minor": 0,
  "metadata": {
    "colab": {
      "provenance": [],
      "include_colab_link": true
    },
    "kernelspec": {
      "name": "python3",
      "display_name": "Python 3"
    },
    "language_info": {
      "name": "python"
    }
  },
  "cells": [
    {
      "cell_type": "markdown",
      "metadata": {
        "id": "view-in-github",
        "colab_type": "text"
      },
      "source": [
        "<a href=\"https://colab.research.google.com/github/rzqynptr/Matematika-Diskrit-24083010042-Amelia/blob/main/24083010042_Amelia_Rizqyna_Putri_Matdis_A_Tugas1.ipynb\" target=\"_parent\"><img src=\"https://colab.research.google.com/assets/colab-badge.svg\" alt=\"Open In Colab\"/></a>"
      ]
    },
    {
      "cell_type": "code",
      "execution_count": null,
      "metadata": {
        "colab": {
          "base_uri": "https://localhost:8080/"
        },
        "id": "hCwibb3jJmcH",
        "outputId": "a8790e09-3de3-4a3e-a362-7b1b1adcdd01"
      },
      "outputs": [
        {
          "output_type": "stream",
          "name": "stdout",
          "text": [
            "Empat mahasiswa terbaik berdasarkan skor total:\n",
            "                               NAMA  Skor_Total\n",
            "8   RAVEENA AYU DESEMBER SURYOPUTRI        1.30\n",
            "37                YUNIAR RACHMAWATI        1.30\n",
            "6             Mohammad Alimun Hakim        1.28\n",
            "15       SITI NAIA HESTI RACHMAWATI        1.26\n",
            "\n",
            "Matriks Kovarians:\n",
            "[[0.01216305 0.01117028 0.01023669 0.0087311 ]\n",
            " [0.01117028 0.01677844 0.01489152 0.01255095]\n",
            " [0.01023669 0.01489152 0.01905325 0.01447732]\n",
            " [0.0087311  0.01255095 0.01447732 0.01547666]]\n",
            "\n",
            "Matriks Korelasi:\n",
            "[[1.         0.78192875 0.67244003 0.63636895]\n",
            " [0.78192875 1.         0.8328728  0.77886532]\n",
            " [0.67244003 0.8328728  1.         0.84307244]\n",
            " [0.63636895 0.77886532 0.84307244 1.        ]]\n",
            "\n",
            "Cosine Similarity (5x5 pertama):\n",
            "NAMA                     MADINA HEDY ALIFANTI  MARIA DWI KURNIASIH  \\\n",
            "NAMA                                                                 \n",
            "MADINA HEDY ALIFANTI                 1.000000             0.993687   \n",
            "MARIA DWI KURNIASIH                  0.993687             1.000000   \n",
            "ADINDA PUTRI RACHMAWATI              0.987535             0.968251   \n",
            "AQUINA SYABITA                       0.995575             0.993687   \n",
            "VARID PUTRA PRATAMA                  0.992733             0.997285   \n",
            "\n",
            "NAMA                     ADINDA PUTRI RACHMAWATI  AQUINA SYABITA  \\\n",
            "NAMA                                                               \n",
            "MADINA HEDY ALIFANTI                    0.987535        0.995575   \n",
            "MARIA DWI KURNIASIH                     0.968251        0.993687   \n",
            "ADINDA PUTRI RACHMAWATI                 1.000000        0.987535   \n",
            "AQUINA SYABITA                          0.987535        1.000000   \n",
            "VARID PUTRA PRATAMA                     0.965048        0.988006   \n",
            "\n",
            "NAMA                     VARID PUTRA PRATAMA  \n",
            "NAMA                                          \n",
            "MADINA HEDY ALIFANTI                0.992733  \n",
            "MARIA DWI KURNIASIH                 0.997285  \n",
            "ADINDA PUTRI RACHMAWATI             0.965048  \n",
            "AQUINA SYABITA                      0.988006  \n",
            "VARID PUTRA PRATAMA                 1.000000  \n"
          ]
        }
      ],
      "source": [
        "import pandas as pd\n",
        "import numpy as np\n",
        "from numpy.linalg import norm\n",
        "\n",
        "# 1. Baca data Excel\n",
        "file_path = \"Data Matdis A.xlsx\"\n",
        "df = pd.read_excel(file_path)\n",
        "\n",
        "# 2. Ambil kolom C–F sebagai kriteria\n",
        "C = df.iloc[:, 2:6]\n",
        "\n",
        "# --- Perbaikan data ---\n",
        "# Isi NaN dengan mean per kolom\n",
        "C = C.fillna(C.mean())\n",
        "\n",
        "# Hapus kolom konstan (supaya korelasi tidak NaN)\n",
        "C = C.loc[:, C.nunique() > 1]\n",
        "\n",
        "# Simpan kembali ke dataframe bersih\n",
        "df_clean = df.copy()\n",
        "df_clean[C.columns] = C\n",
        "\n",
        "# Ubah ke numpy array\n",
        "C = C.to_numpy()\n",
        "\n",
        "# 3. Tentukan bobot prioritas (matrix P)\n",
        "P = np.array([0.2, 0.3, 0.4, 0.4])\n",
        "P = P[:C.shape[1]]   # sesuaikan dengan jumlah kolom C\n",
        "\n",
        "# 4. Hitung skor total (C × P)\n",
        "scores = C @ P\n",
        "df_clean[\"Skor_Total\"] = scores\n",
        "\n",
        "# Ambil 4 mahasiswa terbaik\n",
        "top4 = df_clean.nlargest(4, \"Skor_Total\")\n",
        "\n",
        "print(\"Empat mahasiswa terbaik berdasarkan skor total:\")\n",
        "print(top4[[\"NAMA\", \"Skor_Total\"]])\n",
        "\n",
        "# 5. Matriks kovarians & korelasi antar kriteria\n",
        "cov_mat = np.cov(C, rowvar=False)\n",
        "corr_mat = np.corrcoef(C, rowvar=False)\n",
        "\n",
        "print(\"\\nMatriks Kovarians:\")\n",
        "print(cov_mat)\n",
        "\n",
        "print(\"\\nMatriks Korelasi:\")\n",
        "print(corr_mat)\n",
        "\n",
        "# 6. Cosine similarity antar mahasiswa (handle pembagian 0)\n",
        "norms = norm(C, axis=1)\n",
        "norms[norms == 0] = 1e-10   # cegah pembagian 0\n",
        "cosine_sim = (C @ C.T) / (norms[:, None] * norms)\n",
        "cosine_df = pd.DataFrame(cosine_sim, index=df[\"NAMA\"], columns=df[\"NAMA\"])\n",
        "\n",
        "print(\"\\nCosine Similarity (5x5 pertama):\")\n",
        "print(cosine_df.iloc[:5, :5])\n",
        "\n",
        "# 7. Simpan hasil analisis ke Excel baru\n",
        "with pd.ExcelWriter(\"Hasil_Analisis.xlsx\") as writer:\n",
        "    df_clean.to_excel(writer, sheet_name=\"Skor Mahasiswa\", index=False)\n",
        "    pd.DataFrame(cov_mat).to_excel(writer, sheet_name=\"Kovarians\", index=False)\n",
        "    pd.DataFrame(corr_mat).to_excel(writer, sheet_name=\"Korelasi\", index=False)\n",
        "    cosine_df.to_excel(writer, sheet_name=\"CosineSimilarity\")\n"
      ]
    }
  ]
}