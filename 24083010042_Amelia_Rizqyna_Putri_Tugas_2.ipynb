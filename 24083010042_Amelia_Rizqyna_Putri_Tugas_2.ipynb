{
  "nbformat": 4,
  "nbformat_minor": 0,
  "metadata": {
    "colab": {
      "provenance": [],
      "include_colab_link": true
    },
    "kernelspec": {
      "name": "python3",
      "display_name": "Python 3"
    },
    "language_info": {
      "name": "python"
    }
  },
  "cells": [
    {
      "cell_type": "markdown",
      "metadata": {
        "id": "view-in-github",
        "colab_type": "text"
      },
      "source": [
        "<a href=\"https://colab.research.google.com/github/rzqynptr/Matematika-Diskrit-24083010042-Amelia/blob/main/24083010042_Amelia_Rizqyna_Putri_Tugas_2.ipynb\" target=\"_parent\"><img src=\"https://colab.research.google.com/assets/colab-badge.svg\" alt=\"Open In Colab\"/></a>"
      ]
    },
    {
      "cell_type": "code",
      "execution_count": null,
      "metadata": {
        "id": "0h4OckHIMNGi"
      },
      "outputs": [],
      "source": [
        "import math"
      ]
    },
    {
      "cell_type": "code",
      "source": [
        "# Fungsi untuk pernyataan 1\n",
        "def odd_sum(n):\n",
        "    return sum(2*i - 1 for i in range(1, n+1))\n",
        "\n",
        "# Fungsi untuk pernyataan 2\n",
        "def geom_sum(n):\n",
        "    return sum(2**i for i in range(n+1))\n",
        "\n",
        "# Rentang n yang diuji\n",
        "N = range(1, 51)\n",
        "\n",
        "# Tabel Pernyataan 1\n",
        "print(\"Pernyataan 1: 1 + 3 + 5 + ... + (2n-1) = n^2\\n\")\n",
        "print(f\"{'n':<5}{'Jumlah Deret':<20}{'n^2':<10}{'Benar/Salah'}\")\n",
        "print(\"-\"*50)\n",
        "for n in N:\n",
        "    left = odd_sum(n)\n",
        "    right = n**2\n",
        "    status = \"✅ Benar\" if left == right else \"❌ Salah\"\n",
        "    print(f\"{n:<5}{left:<20}{right:<10}{status}\")\n",
        "\n",
        "# Tabel Pernyataan 2\n",
        "print(\"\\nPernyataan 2: 1 + 2 + 2^2 + ... + 2^n = 2^(n+1) - 1\\n\")\n",
        "print(f\"{'n':<5}{'Jumlah Deret':<20}{'2^(n+1)-1':<15}{'Benar/Salah'}\")\n",
        "print(\"-\"*60)\n",
        "for n in N:\n",
        "    left = geom_sum(n)\n",
        "    right = 2**(n+1) - 1\n",
        "    status = \"✅ Benar\" if left == right else \"❌ Salah\"\n",
        "    print(f\"{n:<5}{left:<20}{right:<15}{status}\")\n"
      ],
      "metadata": {
        "colab": {
          "base_uri": "https://localhost:8080/"
        },
        "id": "hc4prqvRMTlK",
        "outputId": "ba902556-5a87-420e-aaa2-55038ffe8182"
      },
      "execution_count": null,
      "outputs": [
        {
          "output_type": "stream",
          "name": "stdout",
          "text": [
            "Pernyataan 1: 1 + 3 + 5 + ... + (2n-1) = n^2\n",
            "\n",
            "n    Jumlah Deret        n^2       Benar/Salah\n",
            "--------------------------------------------------\n",
            "1    1                   1         ✅ Benar\n",
            "2    4                   4         ✅ Benar\n",
            "3    9                   9         ✅ Benar\n",
            "4    16                  16        ✅ Benar\n",
            "5    25                  25        ✅ Benar\n",
            "6    36                  36        ✅ Benar\n",
            "7    49                  49        ✅ Benar\n",
            "8    64                  64        ✅ Benar\n",
            "9    81                  81        ✅ Benar\n",
            "10   100                 100       ✅ Benar\n",
            "11   121                 121       ✅ Benar\n",
            "12   144                 144       ✅ Benar\n",
            "13   169                 169       ✅ Benar\n",
            "14   196                 196       ✅ Benar\n",
            "15   225                 225       ✅ Benar\n",
            "16   256                 256       ✅ Benar\n",
            "17   289                 289       ✅ Benar\n",
            "18   324                 324       ✅ Benar\n",
            "19   361                 361       ✅ Benar\n",
            "20   400                 400       ✅ Benar\n",
            "21   441                 441       ✅ Benar\n",
            "22   484                 484       ✅ Benar\n",
            "23   529                 529       ✅ Benar\n",
            "24   576                 576       ✅ Benar\n",
            "25   625                 625       ✅ Benar\n",
            "26   676                 676       ✅ Benar\n",
            "27   729                 729       ✅ Benar\n",
            "28   784                 784       ✅ Benar\n",
            "29   841                 841       ✅ Benar\n",
            "30   900                 900       ✅ Benar\n",
            "31   961                 961       ✅ Benar\n",
            "32   1024                1024      ✅ Benar\n",
            "33   1089                1089      ✅ Benar\n",
            "34   1156                1156      ✅ Benar\n",
            "35   1225                1225      ✅ Benar\n",
            "36   1296                1296      ✅ Benar\n",
            "37   1369                1369      ✅ Benar\n",
            "38   1444                1444      ✅ Benar\n",
            "39   1521                1521      ✅ Benar\n",
            "40   1600                1600      ✅ Benar\n",
            "41   1681                1681      ✅ Benar\n",
            "42   1764                1764      ✅ Benar\n",
            "43   1849                1849      ✅ Benar\n",
            "44   1936                1936      ✅ Benar\n",
            "45   2025                2025      ✅ Benar\n",
            "46   2116                2116      ✅ Benar\n",
            "47   2209                2209      ✅ Benar\n",
            "48   2304                2304      ✅ Benar\n",
            "49   2401                2401      ✅ Benar\n",
            "50   2500                2500      ✅ Benar\n",
            "\n",
            "Pernyataan 2: 1 + 2 + 2^2 + ... + 2^n = 2^(n+1) - 1\n",
            "\n",
            "n    Jumlah Deret        2^(n+1)-1      Benar/Salah\n",
            "------------------------------------------------------------\n",
            "1    3                   3              ✅ Benar\n",
            "2    7                   7              ✅ Benar\n",
            "3    15                  15             ✅ Benar\n",
            "4    31                  31             ✅ Benar\n",
            "5    63                  63             ✅ Benar\n",
            "6    127                 127            ✅ Benar\n",
            "7    255                 255            ✅ Benar\n",
            "8    511                 511            ✅ Benar\n",
            "9    1023                1023           ✅ Benar\n",
            "10   2047                2047           ✅ Benar\n",
            "11   4095                4095           ✅ Benar\n",
            "12   8191                8191           ✅ Benar\n",
            "13   16383               16383          ✅ Benar\n",
            "14   32767               32767          ✅ Benar\n",
            "15   65535               65535          ✅ Benar\n",
            "16   131071              131071         ✅ Benar\n",
            "17   262143              262143         ✅ Benar\n",
            "18   524287              524287         ✅ Benar\n",
            "19   1048575             1048575        ✅ Benar\n",
            "20   2097151             2097151        ✅ Benar\n",
            "21   4194303             4194303        ✅ Benar\n",
            "22   8388607             8388607        ✅ Benar\n",
            "23   16777215            16777215       ✅ Benar\n",
            "24   33554431            33554431       ✅ Benar\n",
            "25   67108863            67108863       ✅ Benar\n",
            "26   134217727           134217727      ✅ Benar\n",
            "27   268435455           268435455      ✅ Benar\n",
            "28   536870911           536870911      ✅ Benar\n",
            "29   1073741823          1073741823     ✅ Benar\n",
            "30   2147483647          2147483647     ✅ Benar\n",
            "31   4294967295          4294967295     ✅ Benar\n",
            "32   8589934591          8589934591     ✅ Benar\n",
            "33   17179869183         17179869183    ✅ Benar\n",
            "34   34359738367         34359738367    ✅ Benar\n",
            "35   68719476735         68719476735    ✅ Benar\n",
            "36   137438953471        137438953471   ✅ Benar\n",
            "37   274877906943        274877906943   ✅ Benar\n",
            "38   549755813887        549755813887   ✅ Benar\n",
            "39   1099511627775       1099511627775  ✅ Benar\n",
            "40   2199023255551       2199023255551  ✅ Benar\n",
            "41   4398046511103       4398046511103  ✅ Benar\n",
            "42   8796093022207       8796093022207  ✅ Benar\n",
            "43   17592186044415      17592186044415 ✅ Benar\n",
            "44   35184372088831      35184372088831 ✅ Benar\n",
            "45   70368744177663      70368744177663 ✅ Benar\n",
            "46   140737488355327     140737488355327✅ Benar\n",
            "47   281474976710655     281474976710655✅ Benar\n",
            "48   562949953421311     562949953421311✅ Benar\n",
            "49   1125899906842623    1125899906842623✅ Benar\n",
            "50   2251799813685247    2251799813685247✅ Benar\n"
          ]
        }
      ]
    },
    {
      "cell_type": "markdown",
      "source": [
        "Dari 2 soal yang saya ambil dapat disimpulkan bahwa pernyataan 1 dan 2 benar dan jangkauan nilai n yang valid adalah seluruh bilangan bulat positif."
      ],
      "metadata": {
        "id": "2LMQE_o5ZY9E"
      }
    },
    {
      "cell_type": "code",
      "source": [],
      "metadata": {
        "id": "HlUcGfYRRA14"
      },
      "execution_count": null,
      "outputs": []
    }
  ]
}